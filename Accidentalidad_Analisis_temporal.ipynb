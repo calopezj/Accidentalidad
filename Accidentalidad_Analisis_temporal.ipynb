{
  "nbformat": 4,
  "nbformat_minor": 0,
  "metadata": {
    "colab": {
      "name": "Accidentalidad Analisis temporal.ipynb",
      "provenance": [],
      "collapsed_sections": [],
      "toc_visible": true,
      "include_colab_link": true
    },
    "kernelspec": {
      "name": "python3",
      "display_name": "Python 3"
    }
  },
  "cells": [
    {
      "cell_type": "markdown",
      "metadata": {
        "id": "view-in-github",
        "colab_type": "text"
      },
      "source": [
        "<a href=\"https://colab.research.google.com/github/calopezj/Accidentalidad/blob/master/Accidentalidad_Analisis_temporal.ipynb\" target=\"_parent\"><img src=\"https://colab.research.google.com/assets/colab-badge.svg\" alt=\"Open In Colab\"/></a>"
      ]
    },
    {
      "cell_type": "code",
      "metadata": {
        "id": "YOYD1XUC9fHg",
        "colab_type": "code",
        "colab": {}
      },
      "source": [
        "import pandas as pd\n",
        "import datetime\n",
        "import folium\n",
        "from folium.map import *\n",
        "from folium import plugins\n",
        "from folium.plugins import MeasureControl\n",
        "from folium.plugins import FloatImage"
      ],
      "execution_count": null,
      "outputs": []
    },
    {
      "cell_type": "code",
      "metadata": {
        "id": "LxTfH_PA9hu1",
        "colab_type": "code",
        "colab": {}
      },
      "source": [
        "pdAccidentalidad = pd.read_csv(\n",
        "    \"https://raw.githubusercontent.com/calopezj/Accidentalidad/master/accidentalidad.csv\",\n",
        "    sep = ';',         # separador de campos\n",
        "    thousands = None,  # separador de miles para números\n",
        "    decimal = '.')     # separador de los decimales para números\n",
        "pdAccidentalidad.head()"
      ],
      "execution_count": null,
      "outputs": []
    },
    {
      "cell_type": "markdown",
      "metadata": {
        "id": "9b_SqyvDPf-q",
        "colab_type": "text"
      },
      "source": [
        "# Análisis temporal"
      ]
    },
    {
      "cell_type": "markdown",
      "metadata": {
        "id": "jyv9c7jygA5D",
        "colab_type": "text"
      },
      "source": [
        "### Creamos una columna tipo Datetime"
      ]
    },
    {
      "cell_type": "code",
      "metadata": {
        "id": "2nQ2dh9Gf_Vl",
        "colab_type": "code",
        "colab": {}
      },
      "source": [
        "pdAccidentalidad['Date'] = pd.to_datetime(pdAccidentalidad['FECHA_ACCIDENTE'])\n",
        "pdAccidentalidad.head()"
      ],
      "execution_count": null,
      "outputs": []
    },
    {
      "cell_type": "markdown",
      "metadata": {
        "id": "BT3d1B_RzR84",
        "colab_type": "text"
      },
      "source": [
        "### Agregacion por mes usando la función *resample*"
      ]
    },
    {
      "cell_type": "code",
      "metadata": {
        "id": "no01nJYahADP",
        "colab_type": "code",
        "colab": {}
      },
      "source": [
        "#print(pdAccidentalidad.resample('M', on='Date').count()['EXPEDIENTE'])\n",
        "pdAccidentalidad[pdAccidentalidad['Año'] == 2018].resample('M', on='Date').count()['EXPEDIENTE'].plot.bar();"
      ],
      "execution_count": null,
      "outputs": []
    },
    {
      "cell_type": "markdown",
      "metadata": {
        "id": "-TwUZcN_PI5U",
        "colab_type": "text"
      },
      "source": [
        "### Agregación por año usando *goupby*"
      ]
    },
    {
      "cell_type": "code",
      "metadata": {
        "id": "sV6l5UrhlAKY",
        "colab_type": "code",
        "colab": {}
      },
      "source": [
        "#pdAccidentalidad[pdAccidentalidad['Año'] == 2014].count()\n",
        "pdAccidentalidad[['Año', 'EXPEDIENTE']].groupby('Año').count().plot.bar();"
      ],
      "execution_count": null,
      "outputs": []
    },
    {
      "cell_type": "markdown",
      "metadata": {
        "id": "tE6TbxXf1O1A",
        "colab_type": "text"
      },
      "source": [
        "### Análisis de días especiales"
      ]
    },
    {
      "cell_type": "markdown",
      "metadata": {
        "id": "9VyppATXOeQr",
        "colab_type": "text"
      },
      "source": [
        "### Definición de días hábiles"
      ]
    },
    {
      "cell_type": "code",
      "metadata": {
        "id": "Qg2mbGkF0XIf",
        "colab_type": "code",
        "colab": {}
      },
      "source": [
        "pdAccidentalidad['EsHabil'] = pdAccidentalidad['Date'].map(lambda x: 0 if x.weekday() > 4 else 1)\n",
        "pdAccidentalidad.tail(10)"
      ],
      "execution_count": null,
      "outputs": []
    },
    {
      "cell_type": "markdown",
      "metadata": {
        "id": "src8aaLFOq46",
        "colab_type": "text"
      },
      "source": [
        "### Comparación cantidad de accidentes en días hábiles *vs.* no hábiles\n"
      ]
    },
    {
      "cell_type": "code",
      "metadata": {
        "id": "Xtsdtz6vA4SD",
        "colab_type": "code",
        "colab": {
          "base_uri": "https://localhost:8080/",
          "height": 336
        },
        "outputId": "cdba263d-1920-4f54-957a-f1a45f9665cd"
      },
      "source": [
        "pdAccidentalidad.groupby([ 'Año', 'EsHabil']).count()['Id'].plot.bar()"
      ],
      "execution_count": null,
      "outputs": [
        {
          "output_type": "execute_result",
          "data": {
            "text/plain": [
              "<matplotlib.axes._subplots.AxesSubplot at 0x7f97b9ba9780>"
            ]
          },
          "metadata": {
            "tags": []
          },
          "execution_count": 96
        },
        {
          "output_type": "display_data",
          "data": {
            "image/png": "[encoded data removed]",
            "text/plain": [
              "<Figure size 432x288 with 1 Axes>"
            ]
          },
          "metadata": {
            "tags": []
          }
        }
      ]
    }
  ]
}